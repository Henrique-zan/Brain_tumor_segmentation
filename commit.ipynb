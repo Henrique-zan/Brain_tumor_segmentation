{
 "cells": [
  {
   "cell_type": "code",
   "execution_count": 1,
   "id": "aa408a9f-034f-4a92-a3c9-49b433504bdb",
   "metadata": {},
   "outputs": [
    {
     "name": "stderr",
     "output_type": "stream",
     "text": [
      "warning: in the working copy of 'commit.ipynb', LF will be replaced by CRLF the next time Git touches it\n",
      "warning: in the working copy of 'experimentos_all_tumor_slices/Dataset_viz_allslices_dataset_creation.ipynb', LF will be replaced by CRLF the next time Git touches it\n",
      "warning: in the working copy of 'experimentos_amostras/Dataset_viz_subdataset_creation.ipynb', LF will be replaced by CRLF the next time Git touches it\n",
      "warning: in the working copy of 'experimentos_amostras/baseline2020_T1c_T1ce.ipynb', LF will be replaced by CRLF the next time Git touches it\n",
      "warning: in the working copy of 'experimentos_amostras/baseline2020_T1n_T1.ipynb', LF will be replaced by CRLF the next time Git touches it\n",
      "warning: in the working copy of 'experimentos_amostras/baseline2020_T2f_FLAIR.ipynb', LF will be replaced by CRLF the next time Git touches it\n",
      "warning: in the working copy of 'experimentos_amostras/baseline2020_T2w_T2.ipynb', LF will be replaced by CRLF the next time Git touches it\n",
      "warning: in the working copy of 'experimentos_amostras/baseline2024_T1c_T1ce.ipynb', LF will be replaced by CRLF the next time Git touches it\n",
      "warning: in the working copy of 'experimentos_amostras/baseline2024_T1n_T1.ipynb', LF will be replaced by CRLF the next time Git touches it\n",
      "warning: in the working copy of 'experimentos_amostras/baseline2024_T2f_FLAIR.ipynb', LF will be replaced by CRLF the next time Git touches it\n",
      "warning: in the working copy of 'experimentos_amostras/baseline2024_T2w_T2.ipynb', LF will be replaced by CRLF the next time Git touches it\n",
      "warning: in the working copy of 'experimentos_amostras/crossdataset_T1c_T1ce.ipynb', LF will be replaced by CRLF the next time Git touches it\n",
      "warning: in the working copy of 'experimentos_amostras/crossdataset_T1n_T1.ipynb', LF will be replaced by CRLF the next time Git touches it\n",
      "warning: in the working copy of 'experimentos_amostras/crossdataset_T2f_FLAIR.ipynb', LF will be replaced by CRLF the next time Git touches it\n",
      "warning: in the working copy of 'experimentos_amostras/crossdataset_T2w_T2.ipynb', LF will be replaced by CRLF the next time Git touches it\n"
     ]
    },
    {
     "name": "stdout",
     "output_type": "stream",
     "text": [
      "[main 481304c] Projeto II\n",
      " 27 files changed, 2790 insertions(+), 17 deletions(-)\n",
      " create mode 100644 commit.ipynb\n",
      " create mode 100644 experimentos_all_tumor_slices/Dataset_viz_allslices_dataset_creation.ipynb\n",
      " rename Dataset_viz_subdataset_creation.ipynb => experimentos_amostras/Dataset_viz_subdataset_creation.ipynb (99%)\n",
      " rename baseline2020_T1c_T1ce.ipynb => experimentos_amostras/baseline2020_T1c_T1ce.ipynb (100%)\n",
      " rename baseline2020_T1n_T1.ipynb => experimentos_amostras/baseline2020_T1n_T1.ipynb (100%)\n",
      " rename baseline2020_T2f_FLAIR.ipynb => experimentos_amostras/baseline2020_T2f_FLAIR.ipynb (100%)\n",
      " rename baseline2020_T2w_T2.ipynb => experimentos_amostras/baseline2020_T2w_T2.ipynb (100%)\n",
      " rename baseline2024_T1c_T1ce.ipynb => experimentos_amostras/baseline2024_T1c_T1ce.ipynb (100%)\n",
      " rename baseline2024_T1n_T1.ipynb => experimentos_amostras/baseline2024_T1n_T1.ipynb (100%)\n",
      " rename baseline2024_T2f_FLAIR.ipynb => experimentos_amostras/baseline2024_T2f_FLAIR.ipynb (100%)\n",
      " rename baseline2024_T2w_T2.ipynb => experimentos_amostras/baseline2024_T2w_T2.ipynb (100%)\n",
      " rename crossdataset_T1c_T1ce.ipynb => experimentos_amostras/crossdataset_T1c_T1ce.ipynb (100%)\n",
      " rename crossdataset_T1n_T1.ipynb => experimentos_amostras/crossdataset_T1n_T1.ipynb (100%)\n",
      " rename crossdataset_T2f_FLAIR.ipynb => experimentos_amostras/crossdataset_T2f_FLAIR.ipynb (100%)\n",
      " rename crossdataset_T2w_T2.ipynb => experimentos_amostras/crossdataset_T2w_T2.ipynb (100%)\n",
      " rename {modelos_treinados => experimentos_amostras/modelos_treinados}/best_BASELINE2020_T1c_T1ce.pt (100%)\n",
      " rename {modelos_treinados => experimentos_amostras/modelos_treinados}/best_BASELINE2020_T1n_T1.pt (100%)\n",
      " rename {modelos_treinados => experimentos_amostras/modelos_treinados}/best_BASELINE2020_T2f_FLAIR.pt (100%)\n",
      " rename {modelos_treinados => experimentos_amostras/modelos_treinados}/best_BASELINE2020_T2w_T2.pt (100%)\n",
      " rename {modelos_treinados => experimentos_amostras/modelos_treinados}/best_BASELINE2024_T1c_T1ce.pt (100%)\n",
      " rename {modelos_treinados => experimentos_amostras/modelos_treinados}/best_BASELINE2024_T1n_T1.pt (100%)\n",
      " rename {modelos_treinados => experimentos_amostras/modelos_treinados}/best_BASELINE2024_T2f_FLAIR.pt (100%)\n",
      " rename {modelos_treinados => experimentos_amostras/modelos_treinados}/best_BASELINE2024_T2w_T2.pt (100%)\n",
      " rename {modelos_treinados => experimentos_amostras/modelos_treinados}/best_CROSSDATASET_T1c_T1ce.pt (100%)\n",
      " rename {modelos_treinados => experimentos_amostras/modelos_treinados}/best_CROSSDATASET_T1n_T1.pt (100%)\n",
      " rename {modelos_treinados => experimentos_amostras/modelos_treinados}/best_CROSSDATASET_T2f_FLAIR.pt (100%)\n",
      " rename {modelos_treinados => experimentos_amostras/modelos_treinados}/best_CROSSDATASET_T2w_T2.pt (100%)\n"
     ]
    },
    {
     "name": "stderr",
     "output_type": "stream",
     "text": [
      "error: remote origin already exists.\n"
     ]
    },
    {
     "name": "stdout",
     "output_type": "stream",
     "text": [
      "branch 'main' set up to track 'origin/main'.\n"
     ]
    },
    {
     "name": "stderr",
     "output_type": "stream",
     "text": [
      "To https://github.com/Henrique-zan/Brain_tumor_segmentation.git\n",
      "   a4d0fd0..481304c  main -> main\n"
     ]
    }
   ],
   "source": [
    "#BLOCO PARA COMMITAR NO MEU REPOSITORIO\n",
    "\n",
    "#!git init\n",
    "!git add .\n",
    "!git commit -m \"Projeto II\"\n",
    "!git branch -M main\n",
    "!git remote add origin https://github.com/Henrique-zan/Brain_tumor_segmentation.git\n",
    "!git push -u origin main"
   ]
  }
 ],
 "metadata": {
  "kernelspec": {
   "display_name": "Python 3 (ipykernel)",
   "language": "python",
   "name": "python3"
  },
  "language_info": {
   "codemirror_mode": {
    "name": "ipython",
    "version": 3
   },
   "file_extension": ".py",
   "mimetype": "text/x-python",
   "name": "python",
   "nbconvert_exporter": "python",
   "pygments_lexer": "ipython3",
   "version": "3.10.18"
  }
 },
 "nbformat": 4,
 "nbformat_minor": 5
}
