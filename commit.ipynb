{
 "cells": [
  {
   "cell_type": "code",
   "execution_count": null,
   "id": "aa408a9f-034f-4a92-a3c9-49b433504bdb",
   "metadata": {},
   "outputs": [],
   "source": [
    "#BLOCO PARA COMMITAR NO MEU REPOSITORIO\n",
    "\n",
    "#!git init\n",
    "!git add .\n",
    "!git commit -m \"Projeto II\"\n",
    "!git branch -M main\n",
    "!git remote add origin https://github.com/Henrique-zan/Brain_tumor_segmentation.git\n",
    "!git push -u origin main"
   ]
  }
 ],
 "metadata": {
  "kernelspec": {
   "display_name": "Python 3 (ipykernel)",
   "language": "python",
   "name": "python3"
  },
  "language_info": {
   "codemirror_mode": {
    "name": "ipython",
    "version": 3
   },
   "file_extension": ".py",
   "mimetype": "text/x-python",
   "name": "python",
   "nbconvert_exporter": "python",
   "pygments_lexer": "ipython3",
   "version": "3.10.18"
  }
 },
 "nbformat": 4,
 "nbformat_minor": 5
}
